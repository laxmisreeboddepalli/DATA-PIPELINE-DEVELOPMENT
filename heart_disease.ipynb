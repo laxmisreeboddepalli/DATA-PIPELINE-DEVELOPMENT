{
  "nbformat": 4,
  "nbformat_minor": 0,
  "metadata": {
    "colab": {
      "provenance": [],
      "authorship_tag": "ABX9TyOgrPMHeT20MsLAZbxLGLWA",
      "include_colab_link": true
    },
    "kernelspec": {
      "name": "python3",
      "display_name": "Python 3"
    },
    "language_info": {
      "name": "python"
    }
  },
  "cells": [
    {
      "cell_type": "markdown",
      "metadata": {
        "id": "view-in-github",
        "colab_type": "text"
      },
      "source": [
        "<a href=\"https://colab.research.google.com/github/laxmisreeboddepalli/DATA-PIPELINE-DEVELOPMENT/blob/main/heart_disease.ipynb\" target=\"_parent\"><img src=\"https://colab.research.google.com/assets/colab-badge.svg\" alt=\"Open In Colab\"/></a>"
      ]
    },
    {
      "cell_type": "code",
      "execution_count": null,
      "metadata": {
        "colab": {
          "base_uri": "https://localhost:8080/",
          "height": 73
        },
        "id": "cZg9byAqP8yX",
        "outputId": "f3ff1556-ea81-4327-b9a0-6a236f72cbbf"
      },
      "outputs": [
        {
          "output_type": "display_data",
          "data": {
            "text/plain": [
              "<IPython.core.display.HTML object>"
            ],
            "text/html": [
              "\n",
              "     <input type=\"file\" id=\"files-cab89345-5417-471c-a2b3-823f35488e6f\" name=\"files[]\" multiple disabled\n",
              "        style=\"border:none\" />\n",
              "     <output id=\"result-cab89345-5417-471c-a2b3-823f35488e6f\">\n",
              "      Upload widget is only available when the cell has been executed in the\n",
              "      current browser session. Please rerun this cell to enable.\n",
              "      </output>\n",
              "      <script>// Copyright 2017 Google LLC\n",
              "//\n",
              "// Licensed under the Apache License, Version 2.0 (the \"License\");\n",
              "// you may not use this file except in compliance with the License.\n",
              "// You may obtain a copy of the License at\n",
              "//\n",
              "//      http://www.apache.org/licenses/LICENSE-2.0\n",
              "//\n",
              "// Unless required by applicable law or agreed to in writing, software\n",
              "// distributed under the License is distributed on an \"AS IS\" BASIS,\n",
              "// WITHOUT WARRANTIES OR CONDITIONS OF ANY KIND, either express or implied.\n",
              "// See the License for the specific language governing permissions and\n",
              "// limitations under the License.\n",
              "\n",
              "/**\n",
              " * @fileoverview Helpers for google.colab Python module.\n",
              " */\n",
              "(function(scope) {\n",
              "function span(text, styleAttributes = {}) {\n",
              "  const element = document.createElement('span');\n",
              "  element.textContent = text;\n",
              "  for (const key of Object.keys(styleAttributes)) {\n",
              "    element.style[key] = styleAttributes[key];\n",
              "  }\n",
              "  return element;\n",
              "}\n",
              "\n",
              "// Max number of bytes which will be uploaded at a time.\n",
              "const MAX_PAYLOAD_SIZE = 100 * 1024;\n",
              "\n",
              "function _uploadFiles(inputId, outputId) {\n",
              "  const steps = uploadFilesStep(inputId, outputId);\n",
              "  const outputElement = document.getElementById(outputId);\n",
              "  // Cache steps on the outputElement to make it available for the next call\n",
              "  // to uploadFilesContinue from Python.\n",
              "  outputElement.steps = steps;\n",
              "\n",
              "  return _uploadFilesContinue(outputId);\n",
              "}\n",
              "\n",
              "// This is roughly an async generator (not supported in the browser yet),\n",
              "// where there are multiple asynchronous steps and the Python side is going\n",
              "// to poll for completion of each step.\n",
              "// This uses a Promise to block the python side on completion of each step,\n",
              "// then passes the result of the previous step as the input to the next step.\n",
              "function _uploadFilesContinue(outputId) {\n",
              "  const outputElement = document.getElementById(outputId);\n",
              "  const steps = outputElement.steps;\n",
              "\n",
              "  const next = steps.next(outputElement.lastPromiseValue);\n",
              "  return Promise.resolve(next.value.promise).then((value) => {\n",
              "    // Cache the last promise value to make it available to the next\n",
              "    // step of the generator.\n",
              "    outputElement.lastPromiseValue = value;\n",
              "    return next.value.response;\n",
              "  });\n",
              "}\n",
              "\n",
              "/**\n",
              " * Generator function which is called between each async step of the upload\n",
              " * process.\n",
              " * @param {string} inputId Element ID of the input file picker element.\n",
              " * @param {string} outputId Element ID of the output display.\n",
              " * @return {!Iterable<!Object>} Iterable of next steps.\n",
              " */\n",
              "function* uploadFilesStep(inputId, outputId) {\n",
              "  const inputElement = document.getElementById(inputId);\n",
              "  inputElement.disabled = false;\n",
              "\n",
              "  const outputElement = document.getElementById(outputId);\n",
              "  outputElement.innerHTML = '';\n",
              "\n",
              "  const pickedPromise = new Promise((resolve) => {\n",
              "    inputElement.addEventListener('change', (e) => {\n",
              "      resolve(e.target.files);\n",
              "    });\n",
              "  });\n",
              "\n",
              "  const cancel = document.createElement('button');\n",
              "  inputElement.parentElement.appendChild(cancel);\n",
              "  cancel.textContent = 'Cancel upload';\n",
              "  const cancelPromise = new Promise((resolve) => {\n",
              "    cancel.onclick = () => {\n",
              "      resolve(null);\n",
              "    };\n",
              "  });\n",
              "\n",
              "  // Wait for the user to pick the files.\n",
              "  const files = yield {\n",
              "    promise: Promise.race([pickedPromise, cancelPromise]),\n",
              "    response: {\n",
              "      action: 'starting',\n",
              "    }\n",
              "  };\n",
              "\n",
              "  cancel.remove();\n",
              "\n",
              "  // Disable the input element since further picks are not allowed.\n",
              "  inputElement.disabled = true;\n",
              "\n",
              "  if (!files) {\n",
              "    return {\n",
              "      response: {\n",
              "        action: 'complete',\n",
              "      }\n",
              "    };\n",
              "  }\n",
              "\n",
              "  for (const file of files) {\n",
              "    const li = document.createElement('li');\n",
              "    li.append(span(file.name, {fontWeight: 'bold'}));\n",
              "    li.append(span(\n",
              "        `(${file.type || 'n/a'}) - ${file.size} bytes, ` +\n",
              "        `last modified: ${\n",
              "            file.lastModifiedDate ? file.lastModifiedDate.toLocaleDateString() :\n",
              "                                    'n/a'} - `));\n",
              "    const percent = span('0% done');\n",
              "    li.appendChild(percent);\n",
              "\n",
              "    outputElement.appendChild(li);\n",
              "\n",
              "    const fileDataPromise = new Promise((resolve) => {\n",
              "      const reader = new FileReader();\n",
              "      reader.onload = (e) => {\n",
              "        resolve(e.target.result);\n",
              "      };\n",
              "      reader.readAsArrayBuffer(file);\n",
              "    });\n",
              "    // Wait for the data to be ready.\n",
              "    let fileData = yield {\n",
              "      promise: fileDataPromise,\n",
              "      response: {\n",
              "        action: 'continue',\n",
              "      }\n",
              "    };\n",
              "\n",
              "    // Use a chunked sending to avoid message size limits. See b/62115660.\n",
              "    let position = 0;\n",
              "    do {\n",
              "      const length = Math.min(fileData.byteLength - position, MAX_PAYLOAD_SIZE);\n",
              "      const chunk = new Uint8Array(fileData, position, length);\n",
              "      position += length;\n",
              "\n",
              "      const base64 = btoa(String.fromCharCode.apply(null, chunk));\n",
              "      yield {\n",
              "        response: {\n",
              "          action: 'append',\n",
              "          file: file.name,\n",
              "          data: base64,\n",
              "        },\n",
              "      };\n",
              "\n",
              "      let percentDone = fileData.byteLength === 0 ?\n",
              "          100 :\n",
              "          Math.round((position / fileData.byteLength) * 100);\n",
              "      percent.textContent = `${percentDone}% done`;\n",
              "\n",
              "    } while (position < fileData.byteLength);\n",
              "  }\n",
              "\n",
              "  // All done.\n",
              "  yield {\n",
              "    response: {\n",
              "      action: 'complete',\n",
              "    }\n",
              "  };\n",
              "}\n",
              "\n",
              "scope.google = scope.google || {};\n",
              "scope.google.colab = scope.google.colab || {};\n",
              "scope.google.colab._files = {\n",
              "  _uploadFiles,\n",
              "  _uploadFilesContinue,\n",
              "};\n",
              "})(self);\n",
              "</script> "
            ]
          },
          "metadata": {}
        },
        {
          "output_type": "stream",
          "name": "stdout",
          "text": [
            "Saving heart_disease[1].csv to heart_disease[1] (1).csv\n"
          ]
        }
      ],
      "source": [
        "from google.colab import files\n",
        "uploaded = files.upload()"
      ]
    },
    {
      "cell_type": "code",
      "source": [
        "import pandas as pd\n",
        "import numpy as np\n",
        "from sklearn.model_selection import train_test_split\n",
        "from sklearn.impute import SimpleImputer\n",
        "from sklearn.preprocessing import StandardScaler, OneHotEncoder"
      ],
      "metadata": {
        "id": "zitOd-kXDDIf"
      },
      "execution_count": null,
      "outputs": []
    },
    {
      "cell_type": "code",
      "source": [
        "df = pd.read_csv(\"heart_disease[1].csv\")"
      ],
      "metadata": {
        "id": "rDMClyZUDJiC"
      },
      "execution_count": null,
      "outputs": []
    },
    {
      "cell_type": "code",
      "source": [
        "print(df.head())"
      ],
      "metadata": {
        "colab": {
          "base_uri": "https://localhost:8080/"
        },
        "id": "TwuoucazDO7a",
        "outputId": "68fca996-0ddf-4e47-bba9-97568b270c87"
      },
      "execution_count": null,
      "outputs": [
        {
          "output_type": "stream",
          "name": "stdout",
          "text": [
            "    Age  Gender  Blood Pressure  Cholesterol Level Exercise Habits Smoking  \\\n",
            "0  56.0    Male           153.0              155.0            High     Yes   \n",
            "1  69.0  Female           146.0              286.0            High      No   \n",
            "2  46.0    Male           126.0              216.0             Low      No   \n",
            "3  32.0  Female           122.0              293.0            High     Yes   \n",
            "4  60.0    Male           166.0              242.0             Low     Yes   \n",
            "\n",
            "  Family Heart Disease Diabetes        BMI High Blood Pressure  ...  \\\n",
            "0                  Yes       No  24.991591                 Yes  ...   \n",
            "1                  Yes      Yes  25.221799                  No  ...   \n",
            "2                   No       No  29.855447                  No  ...   \n",
            "3                  Yes       No  24.130477                 Yes  ...   \n",
            "4                  Yes      Yes  20.486289                 Yes  ...   \n",
            "\n",
            "  High LDL Cholesterol Alcohol Consumption Stress Level Sleep Hours  \\\n",
            "0                   No                High       Medium    7.633228   \n",
            "1                   No              Medium         High    8.744034   \n",
            "2                  Yes                 Low          Low    4.440440   \n",
            "3                  Yes                 Low         High    5.249405   \n",
            "4                   No                 Low         High    7.030971   \n",
            "\n",
            "   Sugar Consumption Triglyceride Level  Fasting Blood Sugar  CRP Level  \\\n",
            "0             Medium              342.0                  NaN  12.969246   \n",
            "1             Medium              133.0                157.0   9.355389   \n",
            "2                Low              393.0                 92.0  12.709873   \n",
            "3               High              293.0                 94.0  12.509046   \n",
            "4               High              263.0                154.0  10.381259   \n",
            "\n",
            "   Homocysteine Level  Heart Disease Status  \n",
            "0           12.387250                    No  \n",
            "1           19.298875                    No  \n",
            "2           11.230926                    No  \n",
            "3            5.961958                    No  \n",
            "4            8.153887                    No  \n",
            "\n",
            "[5 rows x 21 columns]\n"
          ]
        }
      ]
    },
    {
      "cell_type": "code",
      "source": [
        "df = df.replace(['?', 'NA', 'na', 'N/A', '--', ''], np.nan)"
      ],
      "metadata": {
        "id": "SE799kinDRth"
      },
      "execution_count": null,
      "outputs": []
    },
    {
      "cell_type": "code",
      "source": [
        "for col in ['trestbps', 'chol', 'thalach']:\n",
        "    if col in df.columns:\n",
        "        df.loc[df[col] == 0, col] = np.nan"
      ],
      "metadata": {
        "id": "VAnx39zCDUGe"
      },
      "execution_count": null,
      "outputs": []
    },
    {
      "cell_type": "code",
      "source": [
        "numeric_cols = df.select_dtypes(include=[np.number]).columns.tolist()\n",
        "categorical_cols = df.select_dtypes(exclude=[np.number]).columns.tolist()"
      ],
      "metadata": {
        "id": "hFF7A5VpDWWg"
      },
      "execution_count": null,
      "outputs": []
    },
    {
      "cell_type": "code",
      "source": [
        "num_imputer = SimpleImputer(strategy=\"median\")\n",
        "cat_imputer = SimpleImputer(strategy=\"most_frequent\")"
      ],
      "metadata": {
        "id": "4mW9MeWwDYR3"
      },
      "execution_count": null,
      "outputs": []
    },
    {
      "cell_type": "code",
      "source": [
        "df[numeric_cols] = num_imputer.fit_transform(df[numeric_cols])\n",
        "df[categorical_cols] = cat_imputer.fit_transform(df[categorical_cols])"
      ],
      "metadata": {
        "id": "1Fn5rroQDaLT"
      },
      "execution_count": null,
      "outputs": []
    },
    {
      "cell_type": "code",
      "source": [
        "scaler = StandardScaler()\n",
        "df[numeric_cols] = scaler.fit_transform(df[numeric_cols])"
      ],
      "metadata": {
        "id": "pLybOJ5SDcSQ"
      },
      "execution_count": null,
      "outputs": []
    },
    {
      "cell_type": "code",
      "source": [
        "X = df.drop(\"Heart Disease Status\", axis=1)\n",
        "y = df[\"Heart Disease Status\"]"
      ],
      "metadata": {
        "id": "yl14F4BADeJB"
      },
      "execution_count": null,
      "outputs": []
    },
    {
      "cell_type": "code",
      "source": [
        "X = pd.get_dummies(X, drop_first=True)"
      ],
      "metadata": {
        "id": "nzi_WeUkDgbn"
      },
      "execution_count": null,
      "outputs": []
    },
    {
      "cell_type": "code",
      "source": [
        "X_train, X_temp, y_train, y_temp = train_test_split(X, y, test_size=0.3, random_state=42, stratify=y)\n",
        "X_val, X_test, y_val, y_test = train_test_split(X_temp, y_temp, test_size=0.5, random_state=42, stratify=y_temp)"
      ],
      "metadata": {
        "id": "xscXfzA9DyOH"
      },
      "execution_count": null,
      "outputs": []
    },
    {
      "cell_type": "code",
      "source": [
        "print(\"Train shape:\", X_train.shape)\n",
        "print(\"Validation shape:\", X_val.shape)\n",
        "print(\"Test shape:\", X_test.shape)"
      ],
      "metadata": {
        "colab": {
          "base_uri": "https://localhost:8080/"
        },
        "id": "jL7zldstD0jF",
        "outputId": "895692c3-b0bf-45de-a69e-7454a041adb8"
      },
      "execution_count": null,
      "outputs": [
        {
          "output_type": "stream",
          "name": "stdout",
          "text": [
            "Train shape: (7000, 24)\n",
            "Validation shape: (1500, 24)\n",
            "Test shape: (1500, 24)\n"
          ]
        }
      ]
    },
    {
      "cell_type": "code",
      "source": [
        "print(\"\\nDataset Info After Preprocessing:\")\n",
        "print(df.info())"
      ],
      "metadata": {
        "colab": {
          "base_uri": "https://localhost:8080/"
        },
        "id": "lN1E3zMoD_BB",
        "outputId": "531485e4-acb2-42c2-b6e6-16dbf29a662d"
      },
      "execution_count": null,
      "outputs": [
        {
          "output_type": "stream",
          "name": "stdout",
          "text": [
            "\n",
            "Dataset Info After Preprocessing:\n",
            "<class 'pandas.core.frame.DataFrame'>\n",
            "RangeIndex: 10000 entries, 0 to 9999\n",
            "Data columns (total 21 columns):\n",
            " #   Column                Non-Null Count  Dtype  \n",
            "---  ------                --------------  -----  \n",
            " 0   Age                   10000 non-null  float64\n",
            " 1   Gender                10000 non-null  object \n",
            " 2   Blood Pressure        10000 non-null  float64\n",
            " 3   Cholesterol Level     10000 non-null  float64\n",
            " 4   Exercise Habits       10000 non-null  object \n",
            " 5   Smoking               10000 non-null  object \n",
            " 6   Family Heart Disease  10000 non-null  object \n",
            " 7   Diabetes              10000 non-null  object \n",
            " 8   BMI                   10000 non-null  float64\n",
            " 9   High Blood Pressure   10000 non-null  object \n",
            " 10  Low HDL Cholesterol   10000 non-null  object \n",
            " 11  High LDL Cholesterol  10000 non-null  object \n",
            " 12  Alcohol Consumption   10000 non-null  object \n",
            " 13  Stress Level          10000 non-null  object \n",
            " 14  Sleep Hours           10000 non-null  float64\n",
            " 15  Sugar Consumption     10000 non-null  object \n",
            " 16  Triglyceride Level    10000 non-null  float64\n",
            " 17  Fasting Blood Sugar   10000 non-null  float64\n",
            " 18  CRP Level             10000 non-null  float64\n",
            " 19  Homocysteine Level    10000 non-null  float64\n",
            " 20  Heart Disease Status  10000 non-null  object \n",
            "dtypes: float64(9), object(12)\n",
            "memory usage: 1.6+ MB\n",
            "None\n"
          ]
        }
      ]
    },
    {
      "cell_type": "code",
      "source": [
        "print(\"\\nMissing Values After Preprocessing:\")\n",
        "print(df.isnull().sum())"
      ],
      "metadata": {
        "colab": {
          "base_uri": "https://localhost:8080/"
        },
        "id": "Sh10-Q_9EGNt",
        "outputId": "7e4275d2-4e6f-476e-fdbf-b27af22c3a60"
      },
      "execution_count": null,
      "outputs": [
        {
          "output_type": "stream",
          "name": "stdout",
          "text": [
            "\n",
            "Missing Values After Preprocessing:\n",
            "Age                     0\n",
            "Gender                  0\n",
            "Blood Pressure          0\n",
            "Cholesterol Level       0\n",
            "Exercise Habits         0\n",
            "Smoking                 0\n",
            "Family Heart Disease    0\n",
            "Diabetes                0\n",
            "BMI                     0\n",
            "High Blood Pressure     0\n",
            "Low HDL Cholesterol     0\n",
            "High LDL Cholesterol    0\n",
            "Alcohol Consumption     0\n",
            "Stress Level            0\n",
            "Sleep Hours             0\n",
            "Sugar Consumption       0\n",
            "Triglyceride Level      0\n",
            "Fasting Blood Sugar     0\n",
            "CRP Level               0\n",
            "Homocysteine Level      0\n",
            "Heart Disease Status    0\n",
            "dtype: int64\n"
          ]
        }
      ]
    },
    {
      "cell_type": "code",
      "source": [],
      "metadata": {
        "id": "dDmdAtgeFSwX"
      },
      "execution_count": null,
      "outputs": []
    }
  ]
}